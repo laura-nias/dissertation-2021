{
 "cells": [
  {
   "cell_type": "code",
   "execution_count": 1,
   "id": "f652a453",
   "metadata": {},
   "outputs": [],
   "source": [
    "import tweepy\n",
    "import pandas as pd\n",
    "import numpy as np\n",
    "import os\n",
    "\n",
    "with open('twitter_api.txt') as file:\n",
    "    consumer_key, consumer_key_secret, access_token, access_token_secret = [line.strip('\\n').split('=')[1] for line in file.readlines()]\n",
    "\n",
    "auth = tweepy.OAuthHandler(consumer_key, consumer_key_secret)\n",
    "auth.set_access_token(access_token, access_token_secret)\n",
    "api = tweepy.API(auth, wait_on_rate_limit=True, wait_on_rate_limit_notify=True)"
   ]
  },
  {
   "cell_type": "code",
   "execution_count": 2,
   "id": "dbb63fae",
   "metadata": {},
   "outputs": [],
   "source": [
    "hashtags = [\"#distancelearning\", \"#onlinelearning\",\"#virtuallearning\",\n",
    "            \"#onlineclasses\",\"#digitallearning\",\"#elearning\",\"#onlineteaching\",\"#blendedlearning\"]\n",
    "\n",
    "search_terms = [\"distance learning\",\"online learning\",\"virtual learning\",\"online classes\",\n",
    "              \"digital learning\",\"e learning\",\"e-learning\",\"online teaching\",\"blended learning\"]\n",
    "\n",
    "def get_tweets(search, isHashtag):\n",
    "    \n",
    "    df_temp = pd.DataFrame(columns=[\"Content\",\"Location\",\"Username\",\"Created at\"])\n",
    "    \n",
    "    tweets = tweepy.Cursor(api.search, q=search+\" -filter:retweets\", lang=\"en\",since=\"2020-05-24\", tweet_mode='extended').items(3000)\n",
    "    \n",
    "    for tweet in tweets:\n",
    "        content = tweet.full_text\n",
    "        username = tweet.user.screen_name\n",
    "        location = tweet.user.location\n",
    "        created_at = tweet.created_at\n",
    "        \n",
    "        retrieved = [content, location, username, created_at]\n",
    "        \n",
    "        df_temp.loc[len(df_temp)] = retrieved\n",
    "        \n",
    "    path = os.getcwd()\n",
    "    \n",
    "    if isHashtag:\n",
    "        filename = path + '/output/' + search[1:] + '_hashtag_v2.csv'\n",
    "    else:\n",
    "        filename = path + '/output/' + search.replace(\" \", \"\") + '_keywords_v2.csv'\n",
    "    \n",
    "    df_temp.to_csv(filename)\n",
    "    \n",
    "for hashtag in hashtags:\n",
    "    get_tweets(hashtag, isHashtag=True)\n",
    "\n",
    "for search in search_terms:\n",
    "    get_tweets(search, isHashtag=False)\n",
    "    "
   ]
  },
  {
   "cell_type": "code",
   "execution_count": null,
   "id": "045aee54",
   "metadata": {},
   "outputs": [],
   "source": []
  }
 ],
 "metadata": {
  "kernelspec": {
   "display_name": "Python 3",
   "language": "python",
   "name": "python3"
  },
  "language_info": {
   "codemirror_mode": {
    "name": "ipython",
    "version": 3
   },
   "file_extension": ".py",
   "mimetype": "text/x-python",
   "name": "python",
   "nbconvert_exporter": "python",
   "pygments_lexer": "ipython3",
   "version": "3.8.8"
  }
 },
 "nbformat": 4,
 "nbformat_minor": 5
}
