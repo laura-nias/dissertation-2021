{
 "cells": [
  {
   "cell_type": "code",
   "execution_count": 3,
   "id": "cea7ce15",
   "metadata": {},
   "outputs": [],
   "source": [
    "import pandas as pd\n",
    "import os\n",
    "\n",
    "path = os.getcwd() + \"/output/second/\"\n",
    "files = os.listdir(path)\n",
    "\n",
    "df_list = []\n",
    "\n",
    "for file in files:\n",
    "    df = pd.read_csv(path + file, index_col=None)\n",
    "    df_list.append(df)\n",
    "\n",
    "tweets_raw = pd.concat(df_list, axis=0, ignore_index=True)\n",
    "\n",
    "tweets_raw.to_csv(\"tweets_v2.csv\")"
   ]
  }
 ],
 "metadata": {
  "kernelspec": {
   "display_name": "Python 3",
   "language": "python",
   "name": "python3"
  },
  "language_info": {
   "codemirror_mode": {
    "name": "ipython",
    "version": 3
   },
   "file_extension": ".py",
   "mimetype": "text/x-python",
   "name": "python",
   "nbconvert_exporter": "python",
   "pygments_lexer": "ipython3",
   "version": "3.8.8"
  }
 },
 "nbformat": 4,
 "nbformat_minor": 5
}
